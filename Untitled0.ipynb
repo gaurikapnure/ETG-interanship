{
  "nbformat": 4,
  "nbformat_minor": 0,
  "metadata": {
    "colab": {
      "name": "Untitled0.ipynb",
      "provenance": [],
      "collapsed_sections": []
    },
    "kernelspec": {
      "name": "python3",
      "display_name": "Python 3"
    },
    "language_info": {
      "name": "python"
    }
  },
  "cells": [
    {
      "cell_type": "code",
      "metadata": {
        "colab": {
          "base_uri": "https://localhost:8080/"
        },
        "id": "EKoB8jp_rZtH",
        "outputId": "5de43e0b-1ee2-4878-c8d5-684e3706b8c1"
      },
      "source": [
        "Data ={1001:{\"name\":\"perk\",\"price\":5,\"quantity\":20,\"weight\":20,\"calorie\":50},\n",
        "      1002:{\"name\":\"kitkat\",\"price\":5,\"quantity\":20,\"weight\":10,\"calorie\":30},\n",
        "      1003:{\"name\":\"5star\",\"price\":5,\"quantity\":20,\"weight\":15,\"calorie\":70},\n",
        "      1004:{\"name\":\"cadbury\",\"price\":5,\"quantity\":20,\"weight\":20,\"calorie\":90},\n",
        "      1005:{\"name\":\"munch\",\"price\":10,\"quantity\":20,\"weight\":10,\"calorie\":70},\n",
        "      1006:{\"name\":\"mango\",\"price\":10,\"quantity\":20,\"weight\":20,\"calorie\":60},\n",
        "      1007:{\"name\":\"fruti\",\"price\":20,\"quantity\":20,\"weight\":50,\"calorie\":30},\n",
        "      1008:{\"name\":\"fizz\",\"price\":30,\"quantity\":20,\"weight\":50,\"calorie\":50},\n",
        "      1009:{\"name\":\"macho\",\"price\":50,\"quantity\":20,\"weight\":20,\"calorie\":50},\n",
        "      1010:{\"name\":\"bulk\",\"price\":5,\"quantity\":20,\"weight\":20,\"calorie\":70},\n",
        "      1011:{\"name\":\"bingo\",\"price\":5,\"quantity\":20,\"weight\":20,\"calorie\":50},\n",
        "      1012:{\"name\":\"fruti\",\"price\":5,\"quantity\":20,\"weight\":10,\"calorie\":40},\n",
        "      1013:{\"name\":\"cargo\",\"price\":25,\"quantity\":20,\"weight\":20,\"calorie\":100},\n",
        "      1014:{\"name\":\"oreo\",\"price\":15,\"quantity\":20,\"weight\":20,\"calorie\":70},\n",
        "      1015:{\"name\":\"cocacola\",\"price\":20,\"quantity\":20,\"weight\":200,\"calorie\":50},\n",
        "      1016:{\"name\":\"parle\",\"price\":5,\"quantity\":20,\"weight\":20,\"calorie\":50},\n",
        "      1017:{\"name\":\"mari\",\"price\":5,\"quantity\":20,\"weight\":50,\"calorie\":50},\n",
        "      1018:{\"name\":\"dark\",\"price\":30,\"quantity\":20,\"weight\":20,\"calorie\":50},\n",
        "      1019:{\"name\":\"amul choco\",\"price\":100,\"quantity\":20,\"weight\":100,\"calorie\":50},\n",
        "      1020:{\"name\":\"maggi\",\"price\":12,\"quantity\":20,\"weight\":20,\"calorie\":50},\n",
        "      1021:{\"name\":\"pears\",\"price\":18,\"quantity\":20,\"weight\":20,\"calorie\":50},\n",
        "      1022:{\"name\":\"layz\",\"price\":10,\"quantity\":20,\"weight\":20,\"calorie\":50},\n",
        "      1023:{\"name\":\"cheese\",\"price\":25,\"quantity\":20,\"weight\":25,\"calorie\":100},\n",
        "      1024:{\"name\":\"wheels\",\"price\":5,\"quantity\":20,\"weight\":30,\"calorie\":50},\n",
        "      1025:{\"name\":\"peanuts\",\"price\":500,\"quantity\":20,\"weight\":250,\"calorie\":200},\n",
        "      1026:{\"name\":\"gold crisp\",\"price\":10,\"quantity\":20,\"weight\":10,\"calorie\":500},\n",
        "      1027:{\"name\":\"silk\",\"price\":100,\"quantity\":20,\"weight\":50,\"calorie\":250},\n",
        "      1028:{\"name\":\"milkbar\",\"price\":5,\"quantity\":20,\"weight\":10,\"calorie\":30},\n",
        "      1029:{\"name\":\"lassi\",\"price\":20,\"quantity\":20,\"weight\":300,\"calorie\":150},\n",
        "      1030:{\"name\":\"red bull\",\"price\":120,\"quantity\":20,\"weight\":200,\"calorie\":175}\n",
        "      }\n",
        "\n",
        "print(\"The data contain by inventory management system:\", Data)\n"
      ],
      "execution_count": 22,
      "outputs": [
        {
          "output_type": "stream",
          "name": "stdout",
          "text": [
            "The data contain by inventory management system: {1001: {'name': 'perk', 'price': 5, 'quantity': 20, 'weight': 20, 'calorie': 50}, 1002: {'name': 'kitkat', 'price': 5, 'quantity': 20, 'weight': 10, 'calorie': 30}, 1003: {'name': '5star', 'price': 5, 'quantity': 20, 'weight': 15, 'calorie': 70}, 1004: {'name': 'cadbury', 'price': 5, 'quantity': 20, 'weight': 20, 'calorie': 90}, 1005: {'name': 'munch', 'price': 10, 'quantity': 20, 'weight': 10, 'calorie': 70}, 1006: {'name': 'mango', 'price': 10, 'quantity': 20, 'weight': 20, 'calorie': 60}, 1007: {'name': 'fruti', 'price': 20, 'quantity': 20, 'weight': 50, 'calorie': 30}, 1008: {'name': 'fizz', 'price': 30, 'quantity': 20, 'weight': 50, 'calorie': 50}, 1009: {'name': 'macho', 'price': 50, 'quantity': 20, 'weight': 20, 'calorie': 50}, 1010: {'name': 'bulk', 'price': 5, 'quantity': 20, 'weight': 20, 'calorie': 70}, 1011: {'name': 'bingo', 'price': 5, 'quantity': 20, 'weight': 20, 'calorie': 50}, 1012: {'name': 'fruti', 'price': 5, 'quantity': 20, 'weight': 10, 'calorie': 40}, 1013: {'name': 'cargo', 'price': 25, 'quantity': 20, 'weight': 20, 'calorie': 100}, 1014: {'name': 'oreo', 'price': 15, 'quantity': 20, 'weight': 20, 'calorie': 70}, 1015: {'name': 'cocacola', 'price': 20, 'quantity': 20, 'weight': 200, 'calorie': 50}, 1016: {'name': 'parle', 'price': 5, 'quantity': 20, 'weight': 20, 'calorie': 50}, 1017: {'name': 'mari', 'price': 5, 'quantity': 20, 'weight': 50, 'calorie': 50}, 1018: {'name': 'dark', 'price': 30, 'quantity': 20, 'weight': 20, 'calorie': 50}, 1019: {'name': 'amul choco', 'price': 100, 'quantity': 20, 'weight': 100, 'calorie': 50}, 1020: {'name': 'maggi', 'price': 12, 'quantity': 20, 'weight': 20, 'calorie': 50}, 1021: {'name': 'pears', 'price': 18, 'quantity': 20, 'weight': 20, 'calorie': 50}, 1022: {'name': 'layz', 'price': 10, 'quantity': 20, 'weight': 20, 'calorie': 50}, 1023: {'name': 'cheese', 'price': 25, 'quantity': 20, 'weight': 25, 'calorie': 100}, 1024: {'name': 'wheels', 'price': 5, 'quantity': 20, 'weight': 30, 'calorie': 50}, 1025: {'name': 'peanuts', 'price': 500, 'quantity': 20, 'weight': 250, 'calorie': 200}, 1026: {'name': 'gold crisp', 'price': 10, 'quantity': 20, 'weight': 10, 'calorie': 500}, 1027: {'name': 'silk', 'price': 100, 'quantity': 20, 'weight': 50, 'calorie': 250}, 1028: {'name': 'milkbar', 'price': 5, 'quantity': 20, 'weight': 10, 'calorie': 30}, 1029: {'name': 'lassi', 'price': 20, 'quantity': 20, 'weight': 300, 'calorie': 150}, 1030: {'name': 'red bull', 'price': 120, 'quantity': 20, 'weight': 200, 'calorie': 175}}\n"
          ]
        }
      ]
    },
    {
      "cell_type": "code",
      "metadata": {
        "id": "EYW4gbO97C9H"
      },
      "source": [
        "import json\n",
        "js=json.dumps(Data)\n",
        "x=open(\"products.json\",'w')\n",
        "x.write(js)\n",
        "x.close()\n",
        "x=open(\"products.json\",'r')\n",
        "txt=x.read()\n",
        "x.close()\n",
        "Data2 =json.loads(txt)"
      ],
      "execution_count": 28,
      "outputs": []
    },
    {
      "cell_type": "code",
      "metadata": {
        "colab": {
          "base_uri": "https://localhost:8080/"
        },
        "id": "wHb86DJ77Wtb",
        "outputId": "ed3a4081-04b4-4677-a1f8-84ec02229949"
      },
      "source": [
        "#getting products info from products file\n",
        "x=open(\"products.json\",'r')\n",
        "txt=x.read()\n",
        "x.close()\n",
        "Data2 =json.loads(txt)\n",
        "\n",
        "\n",
        "#creating bill for product\n",
        "n=input(\"Enter the id of product :\")\n",
        "m=int(input(\"Enter the product quantity :\"))\n",
        "\n",
        "if n in Data2:\n",
        "  product =Data2[n]\n",
        "  if m<=product[\"quantity\"]:\n",
        "  \n",
        "        print(\"Name of product           :\",product[\"name\"])\n",
        "        print(\"Price per piece in rupees :\",product['price'])\n",
        "        print(\"--------------***************-----------------\")\n",
        "        print(\"Bill amount in rupees     :\",product['price']*m)\n",
        "        print(\"Product weight            :\",product['weight']*m,\"mg\")\n",
        "        print(\"--------------***************-----------------\")\n",
        "        print(\"Thank you for shoppning!.. Visit Again \")\n",
        "        #product_remain=product['quantity']-m\n",
        "\n",
        "  else:\n",
        "      print(\"We have limited stock!.. Sorry for your inconvenience\")\n",
        "      m=0\n",
        "else:\n",
        "  print(\"Product not founded\")\n",
        "  m=0\n",
        "#remaining quantity of product \n",
        "product_remain=product['quantity']-m\n",
        "Data2[n][\"quantity\"]=product_remain\n",
        "\n",
        "\n",
        "\n",
        "#adding sold products info into sold file\n",
        "sold_list={n:{'product name':product[\"name\"],'quantity sold':m,'amount':product['price']*m}}\n",
        "se=json.dumps(sold_list)\n",
        "x=open(\"sell.json\",'w')\n",
        "x.write(se)\n",
        "x.close()\n",
        "#updating product file after product is sold\n",
        "js=json.dumps(Data2)\n",
        "x=open(\"products.json\",'w')\n",
        "x.write(js)\n",
        "x.close()"
      ],
      "execution_count": 25,
      "outputs": [
        {
          "output_type": "stream",
          "name": "stdout",
          "text": [
            "Enter the id of product :1021\n",
            "Enter the product quantity :3\n",
            "Name of product           : pears\n",
            "Price per piece in rupees : 18\n",
            "--------------***************-----------------\n",
            "Bill amount in rupees     : 54\n",
            "Product weight            : 60 mg\n",
            "--------------***************-----------------\n",
            "Thank you for shoppning!.. Visit Again \n"
          ]
        }
      ]
    },
    {
      "cell_type": "code",
      "metadata": {
        "id": "TREeVF-v7-By"
      },
      "source": [
        ""
      ],
      "execution_count": null,
      "outputs": []
    },
    {
      "cell_type": "code",
      "metadata": {
        "colab": {
          "base_uri": "https://localhost:8080/"
        },
        "id": "OVqd8XmuDMGh",
        "outputId": "e512f404-a4b0-443b-a319-8ed862262077"
      },
      "source": [
        "x=open(\"products.json\",'r')\n",
        "txt=x.read()\n",
        "x.close()\n",
        "list3=json.loads(txt)\n",
        "\n",
        "#updating products in list\n",
        "\n",
        "n=input(\"Enter the product id      :\")\n",
        "if n in list3:\n",
        "  m=int(input(\"Enter the quantity        :\"))\n",
        "  k=list3[n]['quantity']+m\n",
        "  list3[n]['quantity']=k\n",
        "\n",
        "else:\n",
        "  p=input(\"Enter name\")\n",
        "  m=int(input(\"Enter quantity        :\"))\n",
        "\n",
        "  o=int(input(\"Enter price\"))\n",
        "  w=float(input(\"Enter weight\"))\n",
        "  c=float(input(\"Enter calorie\"))\n",
        "  list3[n]={'name':p,'pr2ice per piece':o,'quantity':m,'weight':w,'calorie':c}\n",
        "\n",
        "#updating products in product file\n",
        "\n",
        "ne=json.dumps(list3)\n",
        "x=open(\"products.json\",'w')\n",
        "x.write(ne)\n",
        "x.close()\n",
        "print(\"product added \")"
      ],
      "execution_count": 20,
      "outputs": [
        {
          "output_type": "stream",
          "name": "stdout",
          "text": [
            "Enter the product id      :1031\n",
            "Enter namesilk\n",
            "Enter quantity        :1\n",
            "Enter price80\n",
            "Enter weight0\n",
            "Enter calorie12\n",
            "product added \n"
          ]
        }
      ]
    }
  ]
}